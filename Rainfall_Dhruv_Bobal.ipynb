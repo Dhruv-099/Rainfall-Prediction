{
 "cells": [
  {
   "cell_type": "code",
   "execution_count": null,
   "metadata": {},
   "outputs": [],
   "source": [
    "import numpy as np\n",
    "import pandas as pd\n",
    "import sklearn as sk\n",
    "from sklearn.linear_model import LinearRegression\n",
    "import matplotlib.pyplot as plt\n"
   ]
  },
  {
   "cell_type": "code",
   "execution_count": null,
   "metadata": {},
   "outputs": [],
   "source": [
    "data=pd.read_csv(\"austin_weather.csv\")\n",
    "data"
   ]
  },
  {
   "cell_type": "code",
   "execution_count": null,
   "metadata": {},
   "outputs": [],
   "source": [
    "not_required_columns = ['Events', 'Date', 'SeaLevelPressureHighInches', 'SeaLevelPressureLowInches']\n",
    "data = data.drop(columns=not_required_columns, axis=1)"
   ]
  },
  {
   "cell_type": "code",
   "execution_count": null,
   "metadata": {},
   "outputs": [],
   "source": [
    "data=data.replace('T',0.0)\n",
    "data=data.replace('-',0.0)"
   ]
  },
  {
   "cell_type": "code",
   "execution_count": null,
   "metadata": {},
   "outputs": [],
   "source": [
    "data.to_csv('austin_final.csv')"
   ]
  },
  {
   "cell_type": "code",
   "execution_count": null,
   "metadata": {},
   "outputs": [],
   "source": [
    "data= pd.read_csv('austin_final.csv')\n",
    "data"
   ]
  },
  {
   "cell_type": "code",
   "execution_count": null,
   "metadata": {},
   "outputs": [],
   "source": [
    "X=data.drop(['PrecipitationSumInches'],axis=1)"
   ]
  },
  {
   "cell_type": "code",
   "execution_count": null,
   "metadata": {},
   "outputs": [],
   "source": [
    "Y=data['PrecipitationSumInches']"
   ]
  },
  {
   "cell_type": "code",
   "execution_count": null,
   "metadata": {},
   "outputs": [],
   "source": [
    "Y=Y.values.reshape(-1,1)"
   ]
  },
  {
   "cell_type": "code",
   "execution_count": null,
   "metadata": {},
   "outputs": [],
   "source": [
    "day_index= 767\n",
    "days =[ i for i in range(Y.size)]"
   ]
  },
  {
   "cell_type": "code",
   "execution_count": null,
   "metadata": {},
   "outputs": [],
   "source": [
    "#intialize the Linear Regression classifier\n",
    "clf=LinearRegression()\n",
    "#train the linear regression\n",
    "clf.fit(X,Y)"
   ]
  },
  {
   "cell_type": "code",
   "execution_count": null,
   "metadata": {},
   "outputs": [],
   "source": [
    "#plot the graph\n",
    "print(\"Precipitation Trend Graph\")\n",
    "plt.scatter(days, Y, color = 'red',)\n",
    "plt.scatter(days[day_index], Y[day_index], color = 'Green')\n",
    "plt.title(\"Precipitation Level\")\n",
    "plt.xlabel(\"Days\")\n",
    "plt.ylabel(\"Prcipitation in inches\")\n",
    "plt.show()\n",
    "X_vis=X.filter(['TempAvgF','DewPointAvgF','HumidityAvgPercent','SeaLevelPressureAvgInches','VisibilityAvgMiles','WindAvgMPH'],axis=1)"
   ]
  },
  {
   "cell_type": "code",
   "execution_count": null,
   "metadata": {},
   "outputs": [],
   "source": [
    "print(\"Precipitation vs Attributes Trend Graph\")\n",
    "for i in range(X_vis.columns.size):\n",
    "    plt.subplot(2,3,i+1)\n",
    "    plt.scatter(days,X_vis[X_vis.columns.values[i][:100]],color='red')\n",
    "    plt.scatter(days[day_index],X_vis[X_vis.columns.values[i]][day_index],color='green')\n",
    "    plt.title(X_vis.columns.values[i])\n",
    "    plt.xlabel(\"Days\")\n",
    "    plt.ylabel(X_vis.columns.values[i])"
   ]
  }
 ],
 "metadata": {
  "kernelspec": {
   "display_name": "Python 3",
   "language": "python",
   "name": "python3"
  },
  "language_info": {
   "codemirror_mode": {
    "name": "ipython",
    "version": 3
   },
   "file_extension": ".py",
   "mimetype": "text/x-python",
   "name": "python",
   "nbconvert_exporter": "python",
   "pygments_lexer": "ipython3",
   "version": "3.11.9"
  }
 },
 "nbformat": 4,
 "nbformat_minor": 2
}
